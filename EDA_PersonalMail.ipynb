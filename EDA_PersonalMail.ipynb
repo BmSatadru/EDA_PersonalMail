{
 "cells": [
  {
   "cell_type": "code",
   "execution_count": 1,
   "id": "13fefce0",
   "metadata": {},
   "outputs": [],
   "source": [
    "# loading required libraries. \n",
    "import numpy as np\n",
    "import pandas as pd\n",
    "import matplotlib.pyplot as plt"
   ]
  },
  {
   "cell_type": "code",
   "execution_count": 2,
   "id": "dcebc7fa",
   "metadata": {},
   "outputs": [
    {
     "data": {
      "text/plain": [
       "'/home/satadru/EDA_PersonalMail'"
      ]
     },
     "execution_count": 2,
     "metadata": {},
     "output_type": "execute_result"
    }
   ],
   "source": [
    "pwd"
   ]
  },
  {
   "cell_type": "code",
   "execution_count": 3,
   "id": "d7691e69",
   "metadata": {},
   "outputs": [
    {
     "name": "stdout",
     "output_type": "stream",
     "text": [
      "<class 'mailbox.mbox'>\n"
     ]
    }
   ],
   "source": [
    "import mailbox\n",
    "mboxFile = \"/home/satadru/EDA_PersonalMail/All mail Including Spam and Trash.mbox\"\n",
    "mBox = mailbox.mbox(mboxFile)\n",
    "print(type(mBox)) # the output denotes that the mailbox has been succesfully created"
   ]
  },
  {
   "cell_type": "code",
   "execution_count": 4,
   "id": "6948f838",
   "metadata": {},
   "outputs": [
    {
     "name": "stdout",
     "output_type": "stream",
     "text": [
      "X-GM-THRID\n",
      "X-Gmail-Labels\n",
      "Delivered-To\n",
      "Received\n",
      "X-Received\n",
      "ARC-Seal\n",
      "ARC-Message-Signature\n",
      "ARC-Authentication-Results\n",
      "Return-Path\n",
      "Received\n",
      "Received-SPF\n",
      "Authentication-Results\n",
      "DKIM-Signature\n",
      "X-Google-DKIM-Signature\n",
      "X-Gm-Message-State\n",
      "X-Google-Smtp-Source\n",
      "MIME-Version\n",
      "X-Received\n",
      "Date\n",
      "Reply-To\n",
      "X-Notifications\n",
      "X-Notifications-Bounce-Info\n",
      "Message-ID\n",
      "Subject\n",
      "From\n",
      "To\n",
      "Content-Type\n"
     ]
    }
   ],
   "source": [
    "for key in mBox[0].keys():   # Getting the list of Keys in the DataSet\n",
    "    print(key)"
   ]
  },
  {
   "cell_type": "code",
   "execution_count": 5,
   "id": "deaafc86",
   "metadata": {},
   "outputs": [],
   "source": [
    "# # Now to check the content dataset, we can do some experiment, \n",
    "# for i in mBox:\n",
    "#     print(i['From'])  # in this way we will get the names who sent me mails."
   ]
  },
  {
   "cell_type": "code",
   "execution_count": 6,
   "id": "9197b8b9",
   "metadata": {},
   "outputs": [],
   "source": [
    "# Instead of working with the whole DataSet we are creating a CSV file with the required field.\n",
    "import csv\n",
    "\n",
    "\n",
    "with open('MyMails.csv', 'w') as output:\n",
    "    writer = csv.writer(output)\n",
    "    writer.writerow([\"Subject\", \"From\", \"Date\", \"To\", \"Label\", \"Thread\"])\n",
    "    for i in mBox:\n",
    "        writer.writerow([\n",
    "            i['Subject'],\n",
    "            i['From'],\n",
    "            i['Date'],\n",
    "            i['To'],\n",
    "            i['X-Gmail-Labels'],\n",
    "            i['X-GM-THRID']\n",
    "        ])\n",
    "    # A csv file has been saved to your working directory"
   ]
  },
  {
   "cell_type": "code",
   "execution_count": null,
   "id": "562bfac8",
   "metadata": {},
   "outputs": [],
   "source": []
  }
 ],
 "metadata": {
  "kernelspec": {
   "display_name": "Python 3 (ipykernel)",
   "language": "python",
   "name": "python3"
  },
  "language_info": {
   "codemirror_mode": {
    "name": "ipython",
    "version": 3
   },
   "file_extension": ".py",
   "mimetype": "text/x-python",
   "name": "python",
   "nbconvert_exporter": "python",
   "pygments_lexer": "ipython3",
   "version": "3.9.12"
  }
 },
 "nbformat": 4,
 "nbformat_minor": 5
}
