{
 "cells": [
  {
   "cell_type": "code",
   "execution_count": 1,
   "id": "8984508a",
   "metadata": {},
   "outputs": [],
   "source": [
    "# loading required libraries. \n",
    "import numpy as np\n",
    "import pandas as pd\n",
    "import matplotlib.pyplot as plt"
   ]
  },
  {
   "cell_type": "code",
   "execution_count": 2,
   "id": "0fb73358",
   "metadata": {},
   "outputs": [
    {
     "data": {
      "text/plain": [
       "'/home/satadru/EDA_PersonalMail'"
      ]
     },
     "execution_count": 2,
     "metadata": {},
     "output_type": "execute_result"
    }
   ],
   "source": [
    "pwd"
   ]
  },
  {
   "cell_type": "code",
   "execution_count": 3,
   "id": "39e29e06",
   "metadata": {},
   "outputs": [
    {
     "name": "stdout",
     "output_type": "stream",
     "text": [
      "<class 'mailbox.mbox'>\n"
     ]
    }
   ],
   "source": [
    "import mailbox\n",
    "mboxFile = \"/home/satadru/EDA_PersonalMail/All mail Including Spam and Trash.mbox\"\n",
    "mBox = mailbox.mbox(mboxFile)\n",
    "print(type(mBox)) # the output denotes that the mailbox has been succesfully created"
   ]
  },
  {
   "cell_type": "code",
   "execution_count": 4,
   "id": "27bd0fe4",
   "metadata": {},
   "outputs": [
    {
     "name": "stdout",
     "output_type": "stream",
     "text": [
      "X-GM-THRID\n",
      "X-Gmail-Labels\n",
      "Delivered-To\n",
      "Received\n",
      "X-Received\n",
      "ARC-Seal\n",
      "ARC-Message-Signature\n",
      "ARC-Authentication-Results\n",
      "Return-Path\n",
      "Received\n",
      "Received-SPF\n",
      "Authentication-Results\n",
      "DKIM-Signature\n",
      "X-Google-DKIM-Signature\n",
      "X-Gm-Message-State\n",
      "X-Google-Smtp-Source\n",
      "MIME-Version\n",
      "X-Received\n",
      "Date\n",
      "Reply-To\n",
      "X-Notifications\n",
      "X-Notifications-Bounce-Info\n",
      "Message-ID\n",
      "Subject\n",
      "From\n",
      "To\n",
      "Content-Type\n"
     ]
    }
   ],
   "source": [
    "for key in mBox[0].keys():   # Getting the list of Keys in the DataSet\n",
    "    print(key)"
   ]
  },
  {
   "cell_type": "code",
   "execution_count": 5,
   "id": "7fd82ae0",
   "metadata": {},
   "outputs": [],
   "source": [
    "# # Now to check the content dataset, we can do some experiment, \n",
    "# for i in mBox:\n",
    "#     print(i['From'])  # in this way we will get the names who sent me mails."
   ]
  },
  {
   "cell_type": "code",
   "execution_count": 6,
   "id": "e74cd3c2",
   "metadata": {},
   "outputs": [],
   "source": [
    "# Instead of working with the whole DataSet we are creating a CSV file with the required field.\n",
    "import csv\n",
    "\n",
    "\n",
    "with open('MyMails.csv', 'w') as output:\n",
    "    writer = csv.writer(output)\n",
    "    writer.writerow([\"Subject\", \"From\", \"Date\", \"To\", \"Label\", \"Thread\"])\n",
    "    for i in mBox:\n",
    "        writer.writerow([\n",
    "            i['Subject'],\n",
    "            i['From'],\n",
    "            i['Date'],\n",
    "            i['To'],\n",
    "            i['X-Gmail-Labels'],\n",
    "            i['X-GM-THRID']\n",
    "        ])\n",
    "    # A csv file named MyMails.csv has been saved to your working directory"
   ]
  },
  {
   "cell_type": "code",
   "execution_count": 7,
   "id": "8cd5fd41",
   "metadata": {},
   "outputs": [],
   "source": [
    "# # loading the dataset \n",
    "df = pd.read_csv(\"./MyMails.csv\")\n",
    "# df.head() # In the Date column the time and date is not in synced according to my local timeZone"
   ]
  },
  {
   "cell_type": "code",
   "execution_count": 8,
   "id": "cbc267e5",
   "metadata": {},
   "outputs": [],
   "source": [
    "# Dealing with the dates\n",
    "# df.dtypes \n",
    "# checking that the date field is still of objectType, to work with the dates we have to convert the object \n",
    "# types into dateTime"
   ]
  },
  {
   "cell_type": "code",
   "execution_count": 9,
   "id": "170d2e7d",
   "metadata": {},
   "outputs": [
    {
     "name": "stdout",
     "output_type": "stream",
     "text": [
      "<class 'pandas.core.frame.DataFrame'>\n",
      "RangeIndex: 6669 entries, 0 to 6668\n",
      "Data columns (total 6 columns):\n",
      " #   Column   Non-Null Count  Dtype \n",
      "---  ------   --------------  ----- \n",
      " 0   Subject  6032 non-null   object\n",
      " 1   From     6669 non-null   object\n",
      " 2   Date     6069 non-null   object\n",
      " 3   To       6056 non-null   object\n",
      " 4   Label    6669 non-null   object\n",
      " 5   Thread   6669 non-null   int64 \n",
      "dtypes: int64(1), object(5)\n",
      "memory usage: 312.7+ KB\n"
     ]
    }
   ],
   "source": [
    "# checking the datatypes and null values\n",
    "df.info()"
   ]
  },
  {
   "cell_type": "code",
   "execution_count": 10,
   "id": "5ec5971d",
   "metadata": {},
   "outputs": [
    {
     "data": {
      "text/plain": [
       "(6669, 6)"
      ]
     },
     "execution_count": 10,
     "metadata": {},
     "output_type": "execute_result"
    }
   ],
   "source": [
    "df.shape"
   ]
  },
  {
   "cell_type": "code",
   "execution_count": 11,
   "id": "e5988be7",
   "metadata": {},
   "outputs": [],
   "source": [
    "# I have converted the the values of column named \"Date\" into DateTime type and mathced the time and date with \n",
    "# my local time zone\n",
    "df['Date'] = df['Date'].apply(lambda x: pd.to_datetime(x, errors = 'coerce', utc = True).tz_convert('Asia/Calcutta'))"
   ]
  },
  {
   "cell_type": "code",
   "execution_count": 12,
   "id": "0f1b6e1b",
   "metadata": {},
   "outputs": [
    {
     "name": "stdout",
     "output_type": "stream",
     "text": [
      "<class 'pandas.core.frame.DataFrame'>\n",
      "RangeIndex: 6669 entries, 0 to 6668\n",
      "Data columns (total 6 columns):\n",
      " #   Column   Non-Null Count  Dtype                        \n",
      "---  ------   --------------  -----                        \n",
      " 0   Subject  6032 non-null   object                       \n",
      " 1   From     6669 non-null   object                       \n",
      " 2   Date     6069 non-null   datetime64[ns, Asia/Calcutta]\n",
      " 3   To       6056 non-null   object                       \n",
      " 4   Label    6669 non-null   object                       \n",
      " 5   Thread   6669 non-null   int64                        \n",
      "dtypes: datetime64[ns, Asia/Calcutta](1), int64(1), object(4)\n",
      "memory usage: 312.7+ KB\n"
     ]
    }
   ],
   "source": [
    "# again checking the type of the date column\n",
    "df.info()"
   ]
  },
  {
   "cell_type": "code",
   "execution_count": 13,
   "id": "50402a6d",
   "metadata": {},
   "outputs": [],
   "source": [
    "#df.head(5)"
   ]
  },
  {
   "cell_type": "code",
   "execution_count": 14,
   "id": "f151c6ce",
   "metadata": {},
   "outputs": [
    {
     "name": "stdout",
     "output_type": "stream",
     "text": [
      "<class 'pandas.core.frame.DataFrame'>\n",
      "Int64Index: 6069 entries, 0 to 6668\n",
      "Data columns (total 6 columns):\n",
      " #   Column   Non-Null Count  Dtype                        \n",
      "---  ------   --------------  -----                        \n",
      " 0   Subject  6032 non-null   object                       \n",
      " 1   From     6069 non-null   object                       \n",
      " 2   Date     6069 non-null   datetime64[ns, Asia/Calcutta]\n",
      " 3   To       6056 non-null   object                       \n",
      " 4   Label    6069 non-null   object                       \n",
      " 5   Thread   6069 non-null   int64                        \n",
      "dtypes: datetime64[ns, Asia/Calcutta](1), int64(1), object(4)\n",
      "memory usage: 331.9+ KB\n",
      "None\n",
      "(6069, 6)\n"
     ]
    }
   ],
   "source": [
    "# Storing only those rows in the dataset where DateTime is mentioned.\n",
    "df = df[df['Date'].notna()]\n",
    "print(df.info())\n",
    "print(df.shape) # previously I have 6669 data points now I am dealing with 6069 data points"
   ]
  },
  {
   "cell_type": "code",
   "execution_count": 16,
   "id": "b4824c30",
   "metadata": {},
   "outputs": [
    {
     "data": {
      "text/html": [
       "<div>\n",
       "<style scoped>\n",
       "    .dataframe tbody tr th:only-of-type {\n",
       "        vertical-align: middle;\n",
       "    }\n",
       "\n",
       "    .dataframe tbody tr th {\n",
       "        vertical-align: top;\n",
       "    }\n",
       "\n",
       "    .dataframe thead th {\n",
       "        text-align: right;\n",
       "    }\n",
       "</style>\n",
       "<table border=\"1\" class=\"dataframe\">\n",
       "  <thead>\n",
       "    <tr style=\"text-align: right;\">\n",
       "      <th></th>\n",
       "      <th>Subject</th>\n",
       "      <th>From</th>\n",
       "      <th>Date</th>\n",
       "      <th>To</th>\n",
       "      <th>Label</th>\n",
       "      <th>Thread</th>\n",
       "    </tr>\n",
       "  </thead>\n",
       "  <tbody>\n",
       "    <tr>\n",
       "      <th>0</th>\n",
       "      <td>[Class starts at 11 AM] Learn all about innova...</td>\n",
       "      <td>Google for Startups &lt;no-reply-eventsatgoogle@g...</td>\n",
       "      <td>2022-08-25 08:03:07+05:30</td>\n",
       "      <td>satadru042@gmail.com</td>\n",
       "      <td>Inbox,Category Updates,Unread</td>\n",
       "      <td>1742098701965204158</td>\n",
       "    </tr>\n",
       "    <tr>\n",
       "      <th>1</th>\n",
       "      <td>Natural Language Processing - Assignment-4 Sol...</td>\n",
       "      <td>onlinecourses@nptel.iitm.ac.in</td>\n",
       "      <td>2022-08-28 00:17:50+05:30</td>\n",
       "      <td>noc22-cs98-announce@nptel.iitm.ac.in</td>\n",
       "      <td>Inbox,Category Updates,Unread</td>\n",
       "      <td>1742341225109793673</td>\n",
       "    </tr>\n",
       "    <tr>\n",
       "      <th>2</th>\n",
       "      <td>Mastermind starts in 30 mins</td>\n",
       "      <td>\"Sakshi Chandraakar\" &lt;sakshi@sakshichandraakar...</td>\n",
       "      <td>2022-08-27 17:31:30+05:30</td>\n",
       "      <td>\"Satadru Bhattacharya\" &lt;satadru042@gmail.com&gt;</td>\n",
       "      <td>Inbox,Category Promotions,Unread</td>\n",
       "      <td>1742315705971863532</td>\n",
       "    </tr>\n",
       "    <tr>\n",
       "      <th>3</th>\n",
       "      <td>=?UTF-8?Q?How_to_get_the_recruiter=E2=80=99s_a...</td>\n",
       "      <td>Coding Ninjas &lt;contact@emailer.codingninjas.in&gt;</td>\n",
       "      <td>2022-08-21 13:52:51+05:30</td>\n",
       "      <td>satadru042@gmail.com</td>\n",
       "      <td>Inbox,Category Updates,Unread</td>\n",
       "      <td>1741758316325345002</td>\n",
       "    </tr>\n",
       "    <tr>\n",
       "      <th>4</th>\n",
       "      <td>Congratulations on completing Natural Language...</td>\n",
       "      <td>\"Coursera\" &lt;no-reply@m.mail.coursera.org&gt;</td>\n",
       "      <td>2022-08-21 19:34:46+05:30</td>\n",
       "      <td>satadru042@gmail.com</td>\n",
       "      <td>Inbox,Category Updates,Unread</td>\n",
       "      <td>1741779827829414193</td>\n",
       "    </tr>\n",
       "  </tbody>\n",
       "</table>\n",
       "</div>"
      ],
      "text/plain": [
       "                                             Subject  \\\n",
       "0  [Class starts at 11 AM] Learn all about innova...   \n",
       "1  Natural Language Processing - Assignment-4 Sol...   \n",
       "2                       Mastermind starts in 30 mins   \n",
       "3  =?UTF-8?Q?How_to_get_the_recruiter=E2=80=99s_a...   \n",
       "4  Congratulations on completing Natural Language...   \n",
       "\n",
       "                                                From  \\\n",
       "0  Google for Startups <no-reply-eventsatgoogle@g...   \n",
       "1                     onlinecourses@nptel.iitm.ac.in   \n",
       "2  \"Sakshi Chandraakar\" <sakshi@sakshichandraakar...   \n",
       "3    Coding Ninjas <contact@emailer.codingninjas.in>   \n",
       "4          \"Coursera\" <no-reply@m.mail.coursera.org>   \n",
       "\n",
       "                       Date                                             To  \\\n",
       "0 2022-08-25 08:03:07+05:30                           satadru042@gmail.com   \n",
       "1 2022-08-28 00:17:50+05:30           noc22-cs98-announce@nptel.iitm.ac.in   \n",
       "2 2022-08-27 17:31:30+05:30  \"Satadru Bhattacharya\" <satadru042@gmail.com>   \n",
       "3 2022-08-21 13:52:51+05:30                           satadru042@gmail.com   \n",
       "4 2022-08-21 19:34:46+05:30                           satadru042@gmail.com   \n",
       "\n",
       "                              Label               Thread  \n",
       "0     Inbox,Category Updates,Unread  1742098701965204158  \n",
       "1     Inbox,Category Updates,Unread  1742341225109793673  \n",
       "2  Inbox,Category Promotions,Unread  1742315705971863532  \n",
       "3     Inbox,Category Updates,Unread  1741758316325345002  \n",
       "4     Inbox,Category Updates,Unread  1741779827829414193  "
      ]
     },
     "execution_count": 16,
     "metadata": {},
     "output_type": "execute_result"
    }
   ],
   "source": [
    "# storing the cleaned data into the local machine\n",
    "#df.to_csv(\"MyMails_Cleaned.csv\")\n",
    "df.head(5)"
   ]
  },
  {
   "cell_type": "code",
   "execution_count": null,
   "id": "a8a229d6",
   "metadata": {},
   "outputs": [],
   "source": []
  }
 ],
 "metadata": {
  "kernelspec": {
   "display_name": "Python 3 (ipykernel)",
   "language": "python",
   "name": "python3"
  },
  "language_info": {
   "codemirror_mode": {
    "name": "ipython",
    "version": 3
   },
   "file_extension": ".py",
   "mimetype": "text/x-python",
   "name": "python",
   "nbconvert_exporter": "python",
   "pygments_lexer": "ipython3",
   "version": "3.9.12"
  }
 },
 "nbformat": 4,
 "nbformat_minor": 5
}
